{
 "cells": [
  {
   "cell_type": "markdown",
   "metadata": {
    "id": "qfV6PU-DuqyV"
   },
   "source": [
    "#A Python Introductory Assignment Let's try to use Python."
   ]
  },
  {
   "cell_type": "markdown",
   "metadata": {
    "id": "BRS9xQFlvqGv"
   },
   "source": [
    "This is the introduction to the python course with Dive into Code corp.\n",
    "This introduction would be based on chencking your basic programming skill, helps you to be able to use programming in solving real life problems and you also gain the skill of searching the internet for problems and find possibl solutions to these problems."
   ]
  },
  {
   "cell_type": "markdown",
   "metadata": {
    "id": "le_NJnGPyYQ4"
   },
   "source": [
    "##Paper folding problem\n",
    "It is said that if you keep folding the paper, the thickness will increase and it will reach the moon in 43 times, but it is difficult to calculate the thickness when the paper is folded 43 times by hand.\n",
    "\n",
    "\n",
    "For this assignment, you will create a program that calculates the thickness of a sheet of paper when it is folded 43 times.​\n",
    "\n",
    "\n",
    "The thickness of the paper folded 43 times, $t_{43}$, can be obtained by the following formula using the thickness of the paper before folding, $t_{0}$.\n",
    "\n",
    "\n",
    "$t_{43} = t_{0}×2^{43}$\n",
    "\n",
    "The thickness of the paper before folding, $ t_ {0} $ is 0.00008m. This is the thickness of a typical sheet of photocopy paper."
   ]
  },
  {
   "cell_type": "markdown",
   "metadata": {
    "id": "mKaODDwJ0kIx"
   },
   "source": [
    "##Calculation for the thickness of a paper when folded 43 tims will be done by two methods\n",
    "In programming, the same behavior can be described in different ways. \n",
    "Here we would be using the following means:\n",
    "\n",
    "\n",
    "* Use exponentiation arithmetic operators\n",
    "* for statement"
   ]
  },
  {
   "cell_type": "markdown",
   "metadata": {
    "id": "bD7wb0671s0d"
   },
   "source": [
    "##[Problem 1] Implementation using exponentiation arithmetic operators\n",
    "Create a program that uses the exponentiation arithmetic operator.\n",
    "As a template, we have prepared a code that calculates the thickness of a sheet of paper when it is folded once. Rewrite the code to calculate the thickness when the paper is folded 43 times."
   ]
  },
  {
   "cell_type": "markdown",
   "metadata": {
    "id": "gFVk6vDa3voJ"
   },
   "source": [
    "##Explanation \n",
    "We understand that the thickness of the paper when it is not folded at $t_0$ is $0.00008m.$ and when it is folded at $t_{43}$ should be $t_0 × 2^{43}$ i.e. we would need to create a program that can be able to fold a paper of $0.00008m$ of thickness by $43$ times "
   ]
  },
  {
   "cell_type": "code",
   "execution_count": null,
   "metadata": {
    "colab": {
     "base_uri": "https://localhost:8080/"
    },
    "executionInfo": {
     "elapsed": 381,
     "status": "ok",
     "timestamp": 1637072181923,
     "user": {
      "displayName": "Ibrahim - Alhaji Fortune",
      "photoUrl": "https://lh3.googleusercontent.com/a-/AOh14Gj_sK0jMMatv-Dlu0w7MnnsCM9gOIFHaLOByOu71yI=s64",
      "userId": "01218923895066088452"
     },
     "user_tz": 0
    },
    "id": "Djw-dGuq5kae",
    "outputId": "789a8ca3-c7af-4b54-ae9e-77f37ef2bb06"
   },
   "outputs": [
    {
     "name": "stdout",
     "output_type": "stream",
     "text": [
      "Thickness : 703687441.77664 meters\n"
     ]
    }
   ],
   "source": [
    "#Code to calculate the thickness when the paper is folded 43 times\n",
    "#using the exponentiation arithmetic operators.\n",
    "\n",
    "#Create a variable THICKNESS and assigned the value of the thickness of the paper when it is not folded\n",
    "THICKNESS = 0.00008\n",
    "\n",
    "#now perform the operation by calling THICKNESS and multiply by the exponential equation\n",
    "folded_thickness = THICKNESS*2**43\n",
    "\n",
    "#print the result by call the print function\n",
    "\n",
    "print(\"Thickness : {} meters\". format(folded_thickness))"
   ]
  },
  {
   "cell_type": "markdown",
   "metadata": {
    "id": "2DQ5zt0XWIi0"
   },
   "source": [
    "#Alternative method to - [Problem 1]\n",
    "This is a more simpler way to solve the above problem using a direct exponentiation arithmetic operator and a print function to display the result"
   ]
  },
  {
   "cell_type": "code",
   "execution_count": null,
   "metadata": {
    "colab": {
     "base_uri": "https://localhost:8080/"
    },
    "executionInfo": {
     "elapsed": 400,
     "status": "ok",
     "timestamp": 1637077347508,
     "user": {
      "displayName": "Ibrahim - Alhaji Fortune",
      "photoUrl": "https://lh3.googleusercontent.com/a-/AOh14Gj_sK0jMMatv-Dlu0w7MnnsCM9gOIFHaLOByOu71yI=s64",
      "userId": "01218923895066088452"
     },
     "user_tz": 0
    },
    "id": "JEwAvi73WDN2",
    "outputId": "bb75bcc3-270a-44c2-ae06-cf279b2f426b"
   },
   "outputs": [
    {
     "name": "stdout",
     "output_type": "stream",
     "text": [
      "Thickness: =703687441.77664 meters\n"
     ]
    }
   ],
   "source": [
    "#Create a variable THICKNESS and assigned the value of the thickness of the paper when it is not folded\n",
    "Thickness=0.00008\n",
    "\n",
    "#use the Thickness variable and directly multiply it by the arithmetic equation \n",
    "Thickness*=2**43\n",
    "\n",
    "#use the print function to display the answer\n",
    "print(\"Thickness: ={} meters\".format(Thickness))"
   ]
  },
  {
   "cell_type": "markdown",
   "metadata": {
    "id": "VzHAC3XqG_2H"
   },
   "source": [
    "#[Problem 2] Unit Conversion\n",
    "If the unit is meters, it's hard to feel the difference, so please convert the unit to ◯◯ 10,000 kilometers and display it.\n",
    "\n",
    "\n",
    "​We have prepared a code converted to ◯◯ kilometers as a sample, so please refer to it when working on it. It is specified that up to 2 digits are displayed after the decimal point."
   ]
  },
  {
   "cell_type": "markdown",
   "metadata": {
    "id": "tu8-bSWTIgTv"
   },
   "source": [
    "##Explanation\n",
    "Here, we are required to convert the answer given in **[Problem 1]** to kilometers and display the answer in two dicimal places\n",
    "\n",
    "We would need to use the print function and devide the folded_thickness answer by 10000"
   ]
  },
  {
   "cell_type": "code",
   "execution_count": null,
   "metadata": {
    "colab": {
     "base_uri": "https://localhost:8080/"
    },
    "executionInfo": {
     "elapsed": 354,
     "status": "ok",
     "timestamp": 1637073152492,
     "user": {
      "displayName": "Ibrahim - Alhaji Fortune",
      "photoUrl": "https://lh3.googleusercontent.com/a-/AOh14Gj_sK0jMMatv-Dlu0w7MnnsCM9gOIFHaLOByOu71yI=s64",
      "userId": "01218923895066088452"
     },
     "user_tz": 0
    },
    "id": "p9TmNpQoJSMf",
    "outputId": "3d39654d-e884-4d3d-d143-e2812e64a623"
   },
   "outputs": [
    {
     "name": "stdout",
     "output_type": "stream",
     "text": [
      "Thickness:70368.74 kilometers\n"
     ]
    }
   ],
   "source": [
    "#code to convert meters to kilometers and display with in decimal places\n",
    "\n",
    "print(\"Thickness:{:.2f} kilometers\". format(folded_thickness/10000))"
   ]
  },
  {
   "cell_type": "markdown",
   "metadata": {
    "id": "0MdMmOGDbI3F"
   },
   "source": [
    "#Alternative method to - [Problem 2]\n",
    "This is a more simpler way to solve the above problem using a direct exponentiation arithmetic operator and a print function to display the result"
   ]
  },
  {
   "cell_type": "code",
   "execution_count": null,
   "metadata": {
    "id": "wFDSlTa4bMHn"
   },
   "outputs": [],
   "source": [
    "#Create a variable THICKNESS and assigned the value of the thickness of the paper when it is not folded\n",
    "Thickness=0.00008\n",
    "\n",
    "#use the Thickness variable and directly multiply it by the arithmetic equation \n",
    "Thickness*=2**43\n",
    "\n",
    "#convert from meters to kilometers by deviding by 10000 and use the print function to display the answer\n",
    "print(\"Thickness: ={:.2f} Km\".format(Thickness/10000))"
   ]
  },
  {
   "cell_type": "markdown",
   "metadata": {
    "id": "X5pNth8tKgPe"
   },
   "source": [
    "#[Problem 3] Create using a for statement\n",
    "Next, create a program that uses the for statement.\n",
    "\n",
    "Do not use exponentiation arithmetic operators. Only the four arithmetic operations+ , - , * , / ) are allowed."
   ]
  },
  {
   "cell_type": "markdown",
   "metadata": {
    "id": "tic734t1K_Q8"
   },
   "source": [
    "##Explanation\n",
    "Here, we are goint to solve the problem using the for statement\n",
    "\n",
    "A for loop is used for iterating over a sequence (that is either a list, a tuple, a dictionary, a set, or a string).\n",
    "\n",
    "This is less like the for keyword in other programming languages, and works more like an iterator method as found in other object-orientated programming languages.\n",
    "\n",
    "With the for loop we can execute a set of statements, once for each item in a list, tuple, set etc."
   ]
  },
  {
   "cell_type": "code",
   "execution_count": null,
   "metadata": {
    "id": "e4vnXsKXLZ29"
   },
   "outputs": [],
   "source": [
    "#by definding the attribute of the paper we use the def statement, indicatin the number of foldes and the paper thickness\n",
    "def paper(num_folds=43, thickness=0.00008):\n",
    "\n",
    "#here we use the range function, initializing at 1 and ending at the number of folds \n",
    "    for i in range(1, num_folds):\n",
    "\n",
    "#here, we use the expansion version of the arithmetic operation to calculate the thickness for the given number of times\n",
    "      thickness = thickness*2*2*2*2*2*2*2*2*2*2*2*2*2*2*2*2*2*2*2*2*2*2*2*2*2*2*2*2*2*2*2*2*2*2*2*2*2*2*2*2*2\n",
    "      print(\"Thickness: {} meters\". format(thicknes))\n",
    "\n",
    "#here, we conver and print the result in to 2 decimal places using the if_else function \n",
    "      if thickness >= 10000:\n",
    "         print(\"Thickness: {:.2f} km\". format(thickness/10000))\n",
    "      else:\n",
    "        print(\"Thickness: {:.2f} meters\". format(thickness/10000))"
   ]
  },
  {
   "cell_type": "markdown",
   "metadata": {
    "id": "8adUwazwe5aT"
   },
   "source": [
    "#Alternative method to - [Problem 3]\n",
    "This is a more simpler way to solve the above problem using a direct exponentiation arithmetic operator, for loop statement and a print function to display the result"
   ]
  },
  {
   "cell_type": "code",
   "execution_count": null,
   "metadata": {
    "colab": {
     "base_uri": "https://localhost:8080/"
    },
    "executionInfo": {
     "elapsed": 391,
     "status": "ok",
     "timestamp": 1637078821968,
     "user": {
      "displayName": "Ibrahim - Alhaji Fortune",
      "photoUrl": "https://lh3.googleusercontent.com/a-/AOh14Gj_sK0jMMatv-Dlu0w7MnnsCM9gOIFHaLOByOu71yI=s64",
      "userId": "01218923895066088452"
     },
     "user_tz": 0
    },
    "id": "ndTLifDxeyKf",
    "outputId": "e00bebd6-88cf-49fa-ae25-3d458346329d"
   },
   "outputs": [
    {
     "name": "stdout",
     "output_type": "stream",
     "text": [
      "Thickness = 70368.74 Km\n"
     ]
    }
   ],
   "source": [
    "#Create a variable THICKNESS and assigned the value of the thickness of the paper when it is not folded\n",
    "Thickness=0.00008\n",
    "\n",
    "#defind the range value \n",
    "for i in range(43):\n",
    "    Thickness=Thickness*2\n",
    "\n",
    "#use the print function to convert to km and print the result\n",
    "print(\"Thickness ={: .2f} Km\".format(Thickness/10000))"
   ]
  },
  {
   "cell_type": "markdown",
   "metadata": {
    "id": "bz5FVzk2RK2I"
   },
   "source": [
    "#[Problem 4] Comparison of calculation time\n",
    "Both of the above two methods are correct, but when comparing the goodness of the code, for example, the following points are evaluated.\n",
    "\n",
    "\n",
    "* Execution speed\n",
    "* Memory usage\n",
    "* Readability\n",
    "* Scalability\n",
    "* Reusability\n",
    "\n",
    "This time we will try to compare the execution speed.\n",
    "\n",
    "\n",
    "We are going to use the template below to output the execution times of the two methods and compare them. Compare the time in the range excluding the parts used by either method, such as variable definition and print​\n",
    "\n",
    "\n",
    "《Model》\n",
    "\n",
    "\n",
    "You can get the time by using the time You can find the execution time by calculating the time difference before and after the point you want to compare."
   ]
  },
  {
   "cell_type": "markdown",
   "metadata": {
    "id": "RDdJckXTTBny"
   },
   "source": [
    "##Explanation\n",
    "Here, we are going to compare the elapsed time between the to methods of both exponentiation arithmetic method and the for loop method"
   ]
  },
  {
   "cell_type": "code",
   "execution_count": null,
   "metadata": {
    "colab": {
     "base_uri": "https://localhost:8080/"
    },
    "executionInfo": {
     "elapsed": 422,
     "status": "ok",
     "timestamp": 1637076103764,
     "user": {
      "displayName": "Ibrahim - Alhaji Fortune",
      "photoUrl": "https://lh3.googleusercontent.com/a-/AOh14Gj_sK0jMMatv-Dlu0w7MnnsCM9gOIFHaLOByOu71yI=s64",
      "userId": "01218923895066088452"
     },
     "user_tz": 0
    },
    "id": "F73HWA4iTqQn",
    "outputId": "343bb5a3-2a8d-4aaf-9809-6fd74f5afc9b"
   },
   "outputs": [
    {
     "name": "stdout",
     "output_type": "stream",
     "text": [
      "Thickness: 703687441.77664meters\n",
      "time : 0.0009567737579345703[s]\n"
     ]
    }
   ],
   "source": [
    "#code to compare the calculation time \n",
    "import time #inpert time library\n",
    "start = time.time()\n",
    "\n",
    "#checking that the value of the thickness and the number of folds is still the same\n",
    "THICKNESS = 0.00008\n",
    "folded_thickness = THICKNESS*2**43\n",
    "print(\"Thickness: {}meters\". format(folded_thickness)) #print the result using the print function\n",
    "\n",
    "#calculate the elapsed time \n",
    "elapsed_time = time.time() - start\n",
    "print(\"time : {}[s]\". format(elapsed_time))"
   ]
  },
  {
   "cell_type": "code",
   "execution_count": null,
   "metadata": {
    "colab": {
     "base_uri": "https://localhost:8080/"
    },
    "executionInfo": {
     "elapsed": 6513,
     "status": "ok",
     "timestamp": 1637080603003,
     "user": {
      "displayName": "Ibrahim - Alhaji Fortune",
      "photoUrl": "https://lh3.googleusercontent.com/a-/AOh14Gj_sK0jMMatv-Dlu0w7MnnsCM9gOIFHaLOByOu71yI=s64",
      "userId": "01218923895066088452"
     },
     "user_tz": 0
    },
    "id": "vh4mmNlplQPg",
    "outputId": "35212cd5-8a4f-40a2-e2fa-4268d791f114"
   },
   "outputs": [
    {
     "name": "stdout",
     "output_type": "stream",
     "text": [
      "The slowest run took 28.40 times longer than the fastest. This could mean that an intermediate result is being cached.\n",
      "10000000 loops, best of 5: 97.6 ns per loop\n"
     ]
    }
   ],
   "source": [
    "#using the magic command %%timeit\n",
    "%%timeit\n",
    "folded_thickness = THICKNESS*2**43 #check that the value is correct\n",
    "folded_thickness#call the function"
   ]
  },
  {
   "cell_type": "code",
   "execution_count": null,
   "metadata": {
    "colab": {
     "base_uri": "https://localhost:8080/"
    },
    "executionInfo": {
     "elapsed": 2042,
     "status": "ok",
     "timestamp": 1637079047690,
     "user": {
      "displayName": "Ibrahim - Alhaji Fortune",
      "photoUrl": "https://lh3.googleusercontent.com/a-/AOh14Gj_sK0jMMatv-Dlu0w7MnnsCM9gOIFHaLOByOu71yI=s64",
      "userId": "01218923895066088452"
     },
     "user_tz": 0
    },
    "id": "kxGA2_PTgTXW",
    "outputId": "a214d075-05e0-492a-c9bb-f9f9518d114b"
   },
   "outputs": [
    {
     "name": "stdout",
     "output_type": "stream",
     "text": [
      "100000 loops, best of 5: 2.57 µs per loop\n"
     ]
    }
   ],
   "source": [
    "# Time comparison using the for statement\n",
    "%%timeit\n",
    "Thickness=0.00008\n",
    "for i in range(43):\n",
    "    Thickness=Thickness*2"
   ]
  },
  {
   "cell_type": "markdown",
   "metadata": {
    "id": "c4lIZ1NthZwO"
   },
   "source": [
    "* ***The relationship between the two time comparision methods is that they are all within the same range, but the for loop statement method is a bit faster than the exponentiation arimethic operator method. The for loop statement seems a better way of writing than the exepontiation arimethic operator method.***"
   ]
  },
  {
   "cell_type": "markdown",
   "metadata": {
    "id": "vPXLZhfKjCpK"
   },
   "source": [
    "#Graph visualization\n",
    "Record the thickness when folded each time and visualize it with a line graph.\n",
    "\n",
    "\n",
    "Generalizing the formula, $ n $ Diffracted paper thickness $ t_ {n} $ can be expressed as:\n",
    "\n",
    "\n",
    " $t_n = t_0 × 2^n$\n",
    "\n",
    "\n",
    "\n",
    "\n",
    "\n",
    "\n",
    "\n",
    "This is an exponential function. Let's take a look at the graph as the thickness increases rapidly and reaches the moon."
   ]
  },
  {
   "cell_type": "markdown",
   "metadata": {
    "id": "ipgkWaGujtYB"
   },
   "source": [
    "#[Problem 5] Saving to a list\n",
    "So far, we have only used the last value after 43 folds, but we need the process values as well to visualize them in the graph; add the code that records the total of 44 process values to the code using the for statement.\n",
    "\n",
    "\n",
    "《Hint》\n",
    "\n",
    "\n",
    "* First, create an empty list.\n",
    "* Next, add the value before folding to the list.\n",
    "* Add the value of the process of folding the paper up to n times in the for statement to the list.\n",
    "\n",
    "Finally, let's use the len function to confirm that 44 values are stored in the list."
   ]
  },
  {
   "cell_type": "markdown",
   "metadata": {
    "id": "rBEzsIDwnIF5"
   },
   "source": [
    "##Explanation\n",
    "We now have been able to calculate the thickness of a paper when it is folded 43 times and doing that, we have only been able to use 43 folds.\n",
    "\n",
    "Here, we need to be able to determin the process values and also be able to visualize it on a graph.\n",
    "\n",
    "To do this, we would need to add the code that records the total 44 process values using the for loop statement "
   ]
  },
  {
   "cell_type": "code",
   "execution_count": null,
   "metadata": {
    "colab": {
     "base_uri": "https://localhost:8080/"
    },
    "executionInfo": {
     "elapsed": 501,
     "status": "ok",
     "timestamp": 1637082190461,
     "user": {
      "displayName": "Ibrahim - Alhaji Fortune",
      "photoUrl": "https://lh3.googleusercontent.com/a-/AOh14Gj_sK0jMMatv-Dlu0w7MnnsCM9gOIFHaLOByOu71yI=s64",
      "userId": "01218923895066088452"
     },
     "user_tz": 0
    },
    "id": "ADPZKIL_r6Iw",
    "outputId": "32f7549d-e87d-4605-d6d8-124355ac3a94"
   },
   "outputs": [
    {
     "name": "stdout",
     "output_type": "stream",
     "text": [
      "[8e-05, 0.00016]\n",
      "2\n",
      "[8e-05, 0.00016, 0.00032]\n",
      "3\n",
      "[8e-05, 0.00016, 0.00032, 0.00064]\n",
      "4\n",
      "[8e-05, 0.00016, 0.00032, 0.00064, 0.00128]\n",
      "5\n",
      "[8e-05, 0.00016, 0.00032, 0.00064, 0.00128, 0.00256]\n",
      "6\n",
      "[8e-05, 0.00016, 0.00032, 0.00064, 0.00128, 0.00256, 0.00512]\n",
      "7\n",
      "[8e-05, 0.00016, 0.00032, 0.00064, 0.00128, 0.00256, 0.00512, 0.01024]\n",
      "8\n",
      "[8e-05, 0.00016, 0.00032, 0.00064, 0.00128, 0.00256, 0.00512, 0.01024, 0.02048]\n",
      "9\n",
      "[8e-05, 0.00016, 0.00032, 0.00064, 0.00128, 0.00256, 0.00512, 0.01024, 0.02048, 0.04096]\n",
      "10\n",
      "[8e-05, 0.00016, 0.00032, 0.00064, 0.00128, 0.00256, 0.00512, 0.01024, 0.02048, 0.04096, 0.08192]\n",
      "11\n",
      "[8e-05, 0.00016, 0.00032, 0.00064, 0.00128, 0.00256, 0.00512, 0.01024, 0.02048, 0.04096, 0.08192, 0.16384]\n",
      "12\n",
      "[8e-05, 0.00016, 0.00032, 0.00064, 0.00128, 0.00256, 0.00512, 0.01024, 0.02048, 0.04096, 0.08192, 0.16384, 0.32768]\n",
      "13\n",
      "[8e-05, 0.00016, 0.00032, 0.00064, 0.00128, 0.00256, 0.00512, 0.01024, 0.02048, 0.04096, 0.08192, 0.16384, 0.32768, 0.65536]\n",
      "14\n",
      "[8e-05, 0.00016, 0.00032, 0.00064, 0.00128, 0.00256, 0.00512, 0.01024, 0.02048, 0.04096, 0.08192, 0.16384, 0.32768, 0.65536, 1.31072]\n",
      "15\n",
      "[8e-05, 0.00016, 0.00032, 0.00064, 0.00128, 0.00256, 0.00512, 0.01024, 0.02048, 0.04096, 0.08192, 0.16384, 0.32768, 0.65536, 1.31072, 2.62144]\n",
      "16\n",
      "[8e-05, 0.00016, 0.00032, 0.00064, 0.00128, 0.00256, 0.00512, 0.01024, 0.02048, 0.04096, 0.08192, 0.16384, 0.32768, 0.65536, 1.31072, 2.62144, 5.24288]\n",
      "17\n",
      "[8e-05, 0.00016, 0.00032, 0.00064, 0.00128, 0.00256, 0.00512, 0.01024, 0.02048, 0.04096, 0.08192, 0.16384, 0.32768, 0.65536, 1.31072, 2.62144, 5.24288, 10.48576]\n",
      "18\n",
      "[8e-05, 0.00016, 0.00032, 0.00064, 0.00128, 0.00256, 0.00512, 0.01024, 0.02048, 0.04096, 0.08192, 0.16384, 0.32768, 0.65536, 1.31072, 2.62144, 5.24288, 10.48576, 20.97152]\n",
      "19\n",
      "[8e-05, 0.00016, 0.00032, 0.00064, 0.00128, 0.00256, 0.00512, 0.01024, 0.02048, 0.04096, 0.08192, 0.16384, 0.32768, 0.65536, 1.31072, 2.62144, 5.24288, 10.48576, 20.97152, 41.94304]\n",
      "20\n",
      "[8e-05, 0.00016, 0.00032, 0.00064, 0.00128, 0.00256, 0.00512, 0.01024, 0.02048, 0.04096, 0.08192, 0.16384, 0.32768, 0.65536, 1.31072, 2.62144, 5.24288, 10.48576, 20.97152, 41.94304, 83.88608]\n",
      "21\n",
      "[8e-05, 0.00016, 0.00032, 0.00064, 0.00128, 0.00256, 0.00512, 0.01024, 0.02048, 0.04096, 0.08192, 0.16384, 0.32768, 0.65536, 1.31072, 2.62144, 5.24288, 10.48576, 20.97152, 41.94304, 83.88608, 167.77216]\n",
      "22\n",
      "[8e-05, 0.00016, 0.00032, 0.00064, 0.00128, 0.00256, 0.00512, 0.01024, 0.02048, 0.04096, 0.08192, 0.16384, 0.32768, 0.65536, 1.31072, 2.62144, 5.24288, 10.48576, 20.97152, 41.94304, 83.88608, 167.77216, 335.54432]\n",
      "23\n",
      "[8e-05, 0.00016, 0.00032, 0.00064, 0.00128, 0.00256, 0.00512, 0.01024, 0.02048, 0.04096, 0.08192, 0.16384, 0.32768, 0.65536, 1.31072, 2.62144, 5.24288, 10.48576, 20.97152, 41.94304, 83.88608, 167.77216, 335.54432, 671.08864]\n",
      "24\n",
      "[8e-05, 0.00016, 0.00032, 0.00064, 0.00128, 0.00256, 0.00512, 0.01024, 0.02048, 0.04096, 0.08192, 0.16384, 0.32768, 0.65536, 1.31072, 2.62144, 5.24288, 10.48576, 20.97152, 41.94304, 83.88608, 167.77216, 335.54432, 671.08864, 1342.17728]\n",
      "25\n",
      "[8e-05, 0.00016, 0.00032, 0.00064, 0.00128, 0.00256, 0.00512, 0.01024, 0.02048, 0.04096, 0.08192, 0.16384, 0.32768, 0.65536, 1.31072, 2.62144, 5.24288, 10.48576, 20.97152, 41.94304, 83.88608, 167.77216, 335.54432, 671.08864, 1342.17728, 2684.35456]\n",
      "26\n",
      "[8e-05, 0.00016, 0.00032, 0.00064, 0.00128, 0.00256, 0.00512, 0.01024, 0.02048, 0.04096, 0.08192, 0.16384, 0.32768, 0.65536, 1.31072, 2.62144, 5.24288, 10.48576, 20.97152, 41.94304, 83.88608, 167.77216, 335.54432, 671.08864, 1342.17728, 2684.35456, 5368.70912]\n",
      "27\n",
      "[8e-05, 0.00016, 0.00032, 0.00064, 0.00128, 0.00256, 0.00512, 0.01024, 0.02048, 0.04096, 0.08192, 0.16384, 0.32768, 0.65536, 1.31072, 2.62144, 5.24288, 10.48576, 20.97152, 41.94304, 83.88608, 167.77216, 335.54432, 671.08864, 1342.17728, 2684.35456, 5368.70912, 10737.41824]\n",
      "28\n",
      "[8e-05, 0.00016, 0.00032, 0.00064, 0.00128, 0.00256, 0.00512, 0.01024, 0.02048, 0.04096, 0.08192, 0.16384, 0.32768, 0.65536, 1.31072, 2.62144, 5.24288, 10.48576, 20.97152, 41.94304, 83.88608, 167.77216, 335.54432, 671.08864, 1342.17728, 2684.35456, 5368.70912, 10737.41824, 21474.83648]\n",
      "29\n",
      "[8e-05, 0.00016, 0.00032, 0.00064, 0.00128, 0.00256, 0.00512, 0.01024, 0.02048, 0.04096, 0.08192, 0.16384, 0.32768, 0.65536, 1.31072, 2.62144, 5.24288, 10.48576, 20.97152, 41.94304, 83.88608, 167.77216, 335.54432, 671.08864, 1342.17728, 2684.35456, 5368.70912, 10737.41824, 21474.83648, 42949.67296]\n",
      "30\n",
      "[8e-05, 0.00016, 0.00032, 0.00064, 0.00128, 0.00256, 0.00512, 0.01024, 0.02048, 0.04096, 0.08192, 0.16384, 0.32768, 0.65536, 1.31072, 2.62144, 5.24288, 10.48576, 20.97152, 41.94304, 83.88608, 167.77216, 335.54432, 671.08864, 1342.17728, 2684.35456, 5368.70912, 10737.41824, 21474.83648, 42949.67296, 85899.34592]\n",
      "31\n",
      "[8e-05, 0.00016, 0.00032, 0.00064, 0.00128, 0.00256, 0.00512, 0.01024, 0.02048, 0.04096, 0.08192, 0.16384, 0.32768, 0.65536, 1.31072, 2.62144, 5.24288, 10.48576, 20.97152, 41.94304, 83.88608, 167.77216, 335.54432, 671.08864, 1342.17728, 2684.35456, 5368.70912, 10737.41824, 21474.83648, 42949.67296, 85899.34592, 171798.69184]\n",
      "32\n",
      "[8e-05, 0.00016, 0.00032, 0.00064, 0.00128, 0.00256, 0.00512, 0.01024, 0.02048, 0.04096, 0.08192, 0.16384, 0.32768, 0.65536, 1.31072, 2.62144, 5.24288, 10.48576, 20.97152, 41.94304, 83.88608, 167.77216, 335.54432, 671.08864, 1342.17728, 2684.35456, 5368.70912, 10737.41824, 21474.83648, 42949.67296, 85899.34592, 171798.69184, 343597.38368]\n",
      "33\n",
      "[8e-05, 0.00016, 0.00032, 0.00064, 0.00128, 0.00256, 0.00512, 0.01024, 0.02048, 0.04096, 0.08192, 0.16384, 0.32768, 0.65536, 1.31072, 2.62144, 5.24288, 10.48576, 20.97152, 41.94304, 83.88608, 167.77216, 335.54432, 671.08864, 1342.17728, 2684.35456, 5368.70912, 10737.41824, 21474.83648, 42949.67296, 85899.34592, 171798.69184, 343597.38368, 687194.76736]\n",
      "34\n",
      "[8e-05, 0.00016, 0.00032, 0.00064, 0.00128, 0.00256, 0.00512, 0.01024, 0.02048, 0.04096, 0.08192, 0.16384, 0.32768, 0.65536, 1.31072, 2.62144, 5.24288, 10.48576, 20.97152, 41.94304, 83.88608, 167.77216, 335.54432, 671.08864, 1342.17728, 2684.35456, 5368.70912, 10737.41824, 21474.83648, 42949.67296, 85899.34592, 171798.69184, 343597.38368, 687194.76736, 1374389.53472]\n",
      "35\n",
      "[8e-05, 0.00016, 0.00032, 0.00064, 0.00128, 0.00256, 0.00512, 0.01024, 0.02048, 0.04096, 0.08192, 0.16384, 0.32768, 0.65536, 1.31072, 2.62144, 5.24288, 10.48576, 20.97152, 41.94304, 83.88608, 167.77216, 335.54432, 671.08864, 1342.17728, 2684.35456, 5368.70912, 10737.41824, 21474.83648, 42949.67296, 85899.34592, 171798.69184, 343597.38368, 687194.76736, 1374389.53472, 2748779.06944]\n",
      "36\n",
      "[8e-05, 0.00016, 0.00032, 0.00064, 0.00128, 0.00256, 0.00512, 0.01024, 0.02048, 0.04096, 0.08192, 0.16384, 0.32768, 0.65536, 1.31072, 2.62144, 5.24288, 10.48576, 20.97152, 41.94304, 83.88608, 167.77216, 335.54432, 671.08864, 1342.17728, 2684.35456, 5368.70912, 10737.41824, 21474.83648, 42949.67296, 85899.34592, 171798.69184, 343597.38368, 687194.76736, 1374389.53472, 2748779.06944, 5497558.13888]\n",
      "37\n",
      "[8e-05, 0.00016, 0.00032, 0.00064, 0.00128, 0.00256, 0.00512, 0.01024, 0.02048, 0.04096, 0.08192, 0.16384, 0.32768, 0.65536, 1.31072, 2.62144, 5.24288, 10.48576, 20.97152, 41.94304, 83.88608, 167.77216, 335.54432, 671.08864, 1342.17728, 2684.35456, 5368.70912, 10737.41824, 21474.83648, 42949.67296, 85899.34592, 171798.69184, 343597.38368, 687194.76736, 1374389.53472, 2748779.06944, 5497558.13888, 10995116.27776]\n",
      "38\n",
      "[8e-05, 0.00016, 0.00032, 0.00064, 0.00128, 0.00256, 0.00512, 0.01024, 0.02048, 0.04096, 0.08192, 0.16384, 0.32768, 0.65536, 1.31072, 2.62144, 5.24288, 10.48576, 20.97152, 41.94304, 83.88608, 167.77216, 335.54432, 671.08864, 1342.17728, 2684.35456, 5368.70912, 10737.41824, 21474.83648, 42949.67296, 85899.34592, 171798.69184, 343597.38368, 687194.76736, 1374389.53472, 2748779.06944, 5497558.13888, 10995116.27776, 21990232.55552]\n",
      "39\n",
      "[8e-05, 0.00016, 0.00032, 0.00064, 0.00128, 0.00256, 0.00512, 0.01024, 0.02048, 0.04096, 0.08192, 0.16384, 0.32768, 0.65536, 1.31072, 2.62144, 5.24288, 10.48576, 20.97152, 41.94304, 83.88608, 167.77216, 335.54432, 671.08864, 1342.17728, 2684.35456, 5368.70912, 10737.41824, 21474.83648, 42949.67296, 85899.34592, 171798.69184, 343597.38368, 687194.76736, 1374389.53472, 2748779.06944, 5497558.13888, 10995116.27776, 21990232.55552, 43980465.11104]\n",
      "40\n",
      "[8e-05, 0.00016, 0.00032, 0.00064, 0.00128, 0.00256, 0.00512, 0.01024, 0.02048, 0.04096, 0.08192, 0.16384, 0.32768, 0.65536, 1.31072, 2.62144, 5.24288, 10.48576, 20.97152, 41.94304, 83.88608, 167.77216, 335.54432, 671.08864, 1342.17728, 2684.35456, 5368.70912, 10737.41824, 21474.83648, 42949.67296, 85899.34592, 171798.69184, 343597.38368, 687194.76736, 1374389.53472, 2748779.06944, 5497558.13888, 10995116.27776, 21990232.55552, 43980465.11104, 87960930.22208]\n",
      "41\n",
      "[8e-05, 0.00016, 0.00032, 0.00064, 0.00128, 0.00256, 0.00512, 0.01024, 0.02048, 0.04096, 0.08192, 0.16384, 0.32768, 0.65536, 1.31072, 2.62144, 5.24288, 10.48576, 20.97152, 41.94304, 83.88608, 167.77216, 335.54432, 671.08864, 1342.17728, 2684.35456, 5368.70912, 10737.41824, 21474.83648, 42949.67296, 85899.34592, 171798.69184, 343597.38368, 687194.76736, 1374389.53472, 2748779.06944, 5497558.13888, 10995116.27776, 21990232.55552, 43980465.11104, 87960930.22208, 175921860.44416]\n",
      "42\n",
      "[8e-05, 0.00016, 0.00032, 0.00064, 0.00128, 0.00256, 0.00512, 0.01024, 0.02048, 0.04096, 0.08192, 0.16384, 0.32768, 0.65536, 1.31072, 2.62144, 5.24288, 10.48576, 20.97152, 41.94304, 83.88608, 167.77216, 335.54432, 671.08864, 1342.17728, 2684.35456, 5368.70912, 10737.41824, 21474.83648, 42949.67296, 85899.34592, 171798.69184, 343597.38368, 687194.76736, 1374389.53472, 2748779.06944, 5497558.13888, 10995116.27776, 21990232.55552, 43980465.11104, 87960930.22208, 175921860.44416, 351843720.88832]\n",
      "43\n",
      "[8e-05, 0.00016, 0.00032, 0.00064, 0.00128, 0.00256, 0.00512, 0.01024, 0.02048, 0.04096, 0.08192, 0.16384, 0.32768, 0.65536, 1.31072, 2.62144, 5.24288, 10.48576, 20.97152, 41.94304, 83.88608, 167.77216, 335.54432, 671.08864, 1342.17728, 2684.35456, 5368.70912, 10737.41824, 21474.83648, 42949.67296, 85899.34592, 171798.69184, 343597.38368, 687194.76736, 1374389.53472, 2748779.06944, 5497558.13888, 10995116.27776, 21990232.55552, 43980465.11104, 87960930.22208, 175921860.44416, 351843720.88832, 703687441.77664]\n",
      "44\n"
     ]
    }
   ],
   "source": [
    "listx = [0.00008]#a list cointaining the value of the paper when it is not fold\n",
    "fold_num = 44#describing the number of folds\n",
    "thickness = 0.00008#describes the paper thinkness\n",
    "\n",
    "#using the for statement \n",
    "for i in range(1, fold_num):\n",
    "  folded_thickness = thickness*2**i\n",
    "  listx.append(folded_thickness)\n",
    "\n",
    "#printing listx\n",
    "  print(listx)\n",
    "  print(len(listx))"
   ]
  },
  {
   "cell_type": "markdown",
   "metadata": {
    "id": "j5W0i8jrs-h_"
   },
   "source": [
    "#[Problem 6] Displaying a line graph\n",
    "A library called Matplotlib is used to draw the graph. Use the following template after the code you want to record in the list."
   ]
  },
  {
   "cell_type": "markdown",
   "metadata": {
    "id": "pPXPx-oItLRo"
   },
   "source": [
    "##Explanation\n",
    "For this problem, we are going to be using the Matplotlib lab to draw and display the graph.\n",
    "\n",
    "**What is Matplotlib** \n",
    "\n",
    "**Matplotlib** - This is a plotting library for the Python programming language and its numerical mathematics extension NumPy. It provides an object-oriented API for embedding plots into applications using general-purpose GUI toolkits like Tkinter, wxPython, Qt, or GTK."
   ]
  },
  {
   "cell_type": "code",
   "execution_count": null,
   "metadata": {
    "colab": {
     "base_uri": "https://localhost:8080/",
     "height": 295
    },
    "executionInfo": {
     "elapsed": 412,
     "status": "ok",
     "timestamp": 1637082917340,
     "user": {
      "displayName": "Ibrahim - Alhaji Fortune",
      "photoUrl": "https://lh3.googleusercontent.com/a-/AOh14Gj_sK0jMMatv-Dlu0w7MnnsCM9gOIFHaLOByOu71yI=s64",
      "userId": "01218923895066088452"
     },
     "user_tz": 0
    },
    "id": "HYgYoomjtocX",
    "outputId": "074fe2f9-23bc-4d3f-d741-ee2a5bbc29fb"
   },
   "outputs": [
    {
     "data": {
      "image/png": "[encoded data removed]",
      "text/plain": [
       "<Figure size 432x288 with 1 Axes>"
      ]
     },
     "metadata": {
      "needs_background": "light"
     },
     "output_type": "display_data"
    }
   ],
   "source": [
    "#importing the library\n",
    "import matplotlib.pyplot as plt\n",
    "%matplotlib inline\n",
    "\n",
    "#describing the Title of the graph\n",
    "plt.title(\"thickness of folded paper\")\n",
    "\n",
    "#describing the x-axis of the graph\n",
    "plt.xlabel(\"number of foldes\")\n",
    "\n",
    "#describing the y-axis of the graph\n",
    "plt.ylabel(\"thickness[M]\")\n",
    "\n",
    "#describing the markers of the data point on the axes\n",
    "plt.tick_params(labelsize=10)\n",
    "\n",
    "#plotting and displaying the graph\n",
    "plt.plot(listx, linewidth=3.0)\n",
    "plt.show()"
   ]
  },
  {
   "cell_type": "markdown",
   "metadata": {
    "id": "Om01vMAWwIUP"
   },
   "source": [
    "###Explanation on the changes of the thickness \n",
    "We can observe that the thickness of the folded paper changes as the number of folds increases. This can be observed form the graph, as you would find out that the thickness started moving up in the graph around 35-37 folds. So if the number of folds continue to increases so is the thickness."
   ]
  },
  {
   "cell_type": "markdown",
   "metadata": {
    "id": "zTvlk2X0xNLQ"
   },
   "source": [
    "#[Problem 7] Customizing graphs\n",
    "Let's customize the graph to make it easier to see. Create at least 3 customized graphs. For example, the line color can be changed to red by rewriting as follows."
   ]
  },
  {
   "cell_type": "markdown",
   "metadata": {
    "id": "1bp4EEHQxaBR"
   },
   "source": [
    "##Explanation \n",
    "Here, we would be decorating the graph to make it more readable and perhaps beautify it.\n",
    "To do it we still would be using the Matplotlib lab \n",
    "\n",
    "**Please see link below**\n",
    "\n",
    "https://matplotlib.org/stable/api/_as_gen/matplotlib.pyplot.plot.html "
   ]
  },
  {
   "cell_type": "markdown",
   "metadata": {
    "id": "azqTjWRe2YgP"
   },
   "source": [
    "###Customize graph - 1"
   ]
  },
  {
   "cell_type": "code",
   "execution_count": null,
   "metadata": {
    "colab": {
     "base_uri": "https://localhost:8080/",
     "height": 293
    },
    "executionInfo": {
     "elapsed": 409,
     "status": "ok",
     "timestamp": 1637083969139,
     "user": {
      "displayName": "Ibrahim - Alhaji Fortune",
      "photoUrl": "https://lh3.googleusercontent.com/a-/AOh14Gj_sK0jMMatv-Dlu0w7MnnsCM9gOIFHaLOByOu71yI=s64",
      "userId": "01218923895066088452"
     },
     "user_tz": 0
    },
    "id": "LkWFNSpdyHfh",
    "outputId": "e0c13e20-fd28-4022-b8cc-6131e59e8f72"
   },
   "outputs": [
    {
     "data": {
      "image/png": "[encoded data removed]",
      "text/plain": [
       "<Figure size 432x288 with 1 Axes>"
      ]
     },
     "metadata": {
      "needs_background": "light"
     },
     "output_type": "display_data"
    }
   ],
   "source": [
    "#importing the Matplotlib library\n",
    "import matplotlib.pyplot as plt\n",
    "%matplotlib inline\n",
    "\n",
    "#describing the Title of the graph\n",
    "plt.title(\"thickness of folded paper\")\n",
    "\n",
    "#describing the x-axis of the graph\n",
    "plt.xlabel(\"number of foldes\")\n",
    "\n",
    "#describing the y-axes of the graph\n",
    "plt.ylabel(\"thickness[M]\")\n",
    "\n",
    "#describing the markers of the data point on the axeses\n",
    "plt.tick_params(labelsize=9) \n",
    "\n",
    "#plotting the graph with a specified color=\"red\"\n",
    "plt.plot(listx, linewidth=5.0, color=\"red\")\n",
    "\n",
    "#plotting the graph with a specified direction='out', length=2, width=2, colors='r'\n",
    "plt.tick_params(direction='out', length=2, width=2, colors='r')\n",
    "plt.show()"
   ]
  },
  {
   "cell_type": "markdown",
   "metadata": {
    "id": "r1oFjXAu2hqp"
   },
   "source": [
    "###Customize graph - 2"
   ]
  },
  {
   "cell_type": "code",
   "execution_count": null,
   "metadata": {
    "colab": {
     "base_uri": "https://localhost:8080/",
     "height": 293
    },
    "executionInfo": {
     "elapsed": 391,
     "status": "ok",
     "timestamp": 1637084622403,
     "user": {
      "displayName": "Ibrahim - Alhaji Fortune",
      "photoUrl": "https://lh3.googleusercontent.com/a-/AOh14Gj_sK0jMMatv-Dlu0w7MnnsCM9gOIFHaLOByOu71yI=s64",
      "userId": "01218923895066088452"
     },
     "user_tz": 0
    },
    "id": "b9Ypm4lG0IFg",
    "outputId": "f741da81-f58b-4761-92fd-0519db41368d"
   },
   "outputs": [
    {
     "data": {
      "image/png": "[encoded data removed]",
      "text/plain": [
       "<Figure size 432x288 with 1 Axes>"
      ]
     },
     "metadata": {
      "needs_background": "light"
     },
     "output_type": "display_data"
    }
   ],
   "source": [
    "#importing the Matplotlib library\n",
    "import matplotlib.pyplot as plt\n",
    "%matplotlib inline\n",
    "\n",
    "#describing the Title of the graph\n",
    "plt.title(\"thickness of folded paper\")\n",
    "\n",
    "#describing the x-axis of the graph\n",
    "plt.xlabel(\"number of foldes\")\n",
    "\n",
    "#describing the y-axes of the graph\n",
    "plt.ylabel(\"thickness[M]\")\n",
    "\n",
    "#describing the markers of the data point on the axeses\n",
    "plt.tick_params(labelsize=9) \n",
    "\n",
    "#plotting the graph with a specified color=\"red\" and extra marker design\n",
    "plt.plot(listx, \"b-o\", markersize=8, markeredgewidth=4, markeredgecolor='black', linewidth=4.0, color=\"red\")\n",
    "\n",
    "#plotting the graph with a specified direction='out', length=2, width=2, colors='b'\n",
    "plt.tick_params(direction='out', length=2, width=2, colors='b')\n",
    "\n",
    "plt.show()"
   ]
  },
  {
   "cell_type": "markdown",
   "metadata": {
    "id": "ZUc9ZDu72p6t"
   },
   "source": [
    "###Customize graph - 3"
   ]
  },
  {
   "cell_type": "code",
   "execution_count": null,
   "metadata": {
    "colab": {
     "base_uri": "https://localhost:8080/",
     "height": 293
    },
    "executionInfo": {
     "elapsed": 434,
     "status": "ok",
     "timestamp": 1637084883131,
     "user": {
      "displayName": "Ibrahim - Alhaji Fortune",
      "photoUrl": "https://lh3.googleusercontent.com/a-/AOh14Gj_sK0jMMatv-Dlu0w7MnnsCM9gOIFHaLOByOu71yI=s64",
      "userId": "01218923895066088452"
     },
     "user_tz": 0
    },
    "id": "b71J853w2zFh",
    "outputId": "f47c9755-c159-40b5-956c-84f18f89d5c4"
   },
   "outputs": [
    {
     "data": {
      "image/png": "[encoded data removed]",
      "text/plain": [
       "<Figure size 432x288 with 1 Axes>"
      ]
     },
     "metadata": {
      "needs_background": "light"
     },
     "output_type": "display_data"
    }
   ],
   "source": [
    "#importing the Matplotlib library\n",
    "import matplotlib.pyplot as plt\n",
    "%matplotlib inline\n",
    "\n",
    "#describing the Title of the graph\n",
    "plt.title(\"thickness of folded paper\")\n",
    "\n",
    "#describing the x-axis of the graph\n",
    "plt.xlabel(\"number of foldes\")\n",
    "\n",
    "#describing the y-axes of the graph\n",
    "plt.ylabel(\"thickness[M]\")\n",
    "\n",
    "#describing the markers of the data point on the axeses\n",
    "plt.tick_params(labelsize=9) \n",
    "\n",
    "#plotting the graph with a specified color=\"red\" and extra marker design\n",
    "#plt.plot(listx, \"r+\", markersize=8, markeredgewidth=4, markeredgecolor='black', linewidth=4.0, color=\"red\")\n",
    "plt.plot(listx, \"r+\", markersize=8, markeredgewidth=4, markeredgecolor='black', linewidth=4.0)\n",
    "\n",
    "#plotting the graph with a specified direction='out', length=2, width=2, colors='r'\n",
    "plt.tick_params(direction='out', length=2, width=2, colors='r')\n",
    "\n",
    "plt.show()"
   ]
  },
  {
   "cell_type": "markdown",
   "metadata": {
    "id": "kLNQgzgZ11-S"
   },
   "source": [
    "$Prepared by: Sulaiman Bangura$"
   ]
  },
  {
   "cell_type": "code",
   "execution_count": null,
   "metadata": {},
   "outputs": [],
   "source": []
  }
 ],
 "metadata": {
  "colab": {
   "collapsed_sections": [],
   "name": "Copy of ml_intro.md.ipynb",
   "provenance": [
    {
     "file_id": "https://github.com/Ibrahim-AF/worksample/blob/main/ml_intro.md.ipynb",
     "timestamp": 1637781353871
    }
   ]
  },
  "kernelspec": {
   "display_name": "Python 3 (ipykernel)",
   "language": "python",
   "name": "python3"
  },
  "language_info": {
   "codemirror_mode": {
    "name": "ipython",
    "version": 3
   },
   "file_extension": ".py",
   "mimetype": "text/x-python",
   "name": "python",
   "nbconvert_exporter": "python",
   "pygments_lexer": "ipython3",
   "version": "3.8.3"
  }
 },
 "nbformat": 4,
 "nbformat_minor": 1
}
